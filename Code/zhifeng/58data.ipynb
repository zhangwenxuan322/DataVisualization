{
 "cells": [
  {
   "cell_type": "code",
   "execution_count": 2,
   "metadata": {},
   "outputs": [],
   "source": [
    "import pymongo\n",
    "client = pymongo.MongoClient(\"localhost\",27017)#连接MongoDB\n",
    "DB_58 = client[\"DB_58\"]#建立数据库\n",
    "url_list_tab = DB_58[\"url_list_tab\"]#存储全商品url文档\n",
    "item_detail_tab = DB_58[\"iten_detail_tab\"]#商品详情文档"
   ]
  },
  {
   "cell_type": "code",
   "execution_count": 3,
   "metadata": {},
   "outputs": [],
   "source": [
    "#获取全部商品连接\n",
    "def get_links_from(channel,pages,who_sells=0):\n",
    "    list_view = '{}{}/pn{}/'.format(channel,str(who_sell),str(pages))\n",
    "    web_data = requests.get(list_view)\n",
    "    time.sleep(2)\n",
    "    soup = BeautifulSoup(web_data.txt,'lxml')\n",
    "    #爬取个人商家列表\n",
    "    if soup.find('td','t'):\n",
    "        for link in soup.select('.zzinfo>td.t>a.t'):\n",
    "            item_link = link.get('herf').split('?')[0]\n",
    "            #去除跳转类型链接\n",
    "            if item_link != 'http://jump.zhineng.58.com/jump':\n",
    "                #将商品链接保存在数据库中\n",
    "                url_list_tab.insert_one({'url':item_link})\n",
    "                print(item_link)\n",
    "    else:\n",
    "        pass\n",
    "    #爬取店铺商家列表\n",
    "    if soup.find('div','lief'):\n",
    "        for link in soup.select('a.title'):\n",
    "            item_link = link.get('href')\n",
    "            if item_link != 'http://jump.zhineng.58.com/jump':\n",
    "                url_list_tab.insert_one({'url':item_link})\n",
    "                print(item_link)\n",
    "    else:\n",
    "        pass"
   ]
  },
  {
   "cell_type": "code",
   "execution_count": 2,
   "metadata": {},
   "outputs": [],
   "source": [
    "#爬取商品详细页信息\n",
    "def get_shop_info(url):\n",
    "    if 'short.58.com' not in url:\n",
    "        #延时\n",
    "        time.sleep(1)\n",
    "        web_data = request.get(url)\n",
    "        soup = BeautifulSoup(web_data.text,'lxml')\n",
    "        #判断版本页面\n",
    "        if soup.find('span','want_left'):\n",
    "            parse_person_item_info(soup)\n",
    "        else:\n",
    "            parse_shop_item_info(soup)\n",
    "    else:\n",
    "        print('error with url :'+url)\n",
    "#解析个人卖家商品详情\n",
    "def parse_person_item_info(soup):\n",
    "    item_detail_tab.insert_one({\n",
    "        'title': soup.select('h1.info_title')[0].text,\n",
    "        'price': soup.select('span.price_now>i')[0].text,\n",
    "        'area': soup.select('div.palce_li > span > i')[0].text\n",
    "    })\n",
    "#解析商家商品详情\n",
    "def parse_shop_item_info(soup):\n",
    "    item_detail_tab.insert_one({\n",
    "        'title': (soup.title.text).spilt('-')[0],\n",
    "        'price': soup.select('div.su_con>span.price')[0].text,\n",
    "        'area': list(soup.select('.c_25d')[-1].stripped_strings)\n",
    "    })"
   ]
  },
  {
   "cell_type": "code",
   "execution_count": null,
   "metadata": {},
   "outputs": [],
   "source": []
  }
 ],
 "metadata": {
  "kernelspec": {
   "display_name": "Python 3",
   "language": "python",
   "name": "python3"
  },
  "language_info": {
   "codemirror_mode": {
    "name": "ipython",
    "version": 3
   },
   "file_extension": ".py",
   "mimetype": "text/x-python",
   "name": "python",
   "nbconvert_exporter": "python",
   "pygments_lexer": "ipython3",
   "version": "3.6.6rc1"
  }
 },
 "nbformat": 4,
 "nbformat_minor": 2
}
