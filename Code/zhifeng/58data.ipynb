{
 "cells": [
  {
   "cell_type": "code",
   "execution_count": 2,
   "metadata": {},
   "outputs": [],
   "source": [
    "import pymongo\n",
    "client = pymongo.MongoClient(\"localhost\",27017)#连接MongoDB\n",
    "DB_58 = client[\"DB_58\"]#建立数据库\n",
    "url_list_tab = DB_58[\"url_list_tab\"]#存储全商品url文档\n",
    "item_detail_tab = DB_58[\"iten_detail_tab\"]#商品详情文档"
   ]
  },
  {
   "cell_type": "code",
   "execution_count": 7,
   "metadata": {},
   "outputs": [
    {
     "ename": "TypeError",
     "evalue": "get_links() missing 2 required positional arguments: 'channel' and 'pages'",
     "output_type": "error",
     "traceback": [
      "\u001b[1;31m---------------------------------------------------------------------------\u001b[0m",
      "\u001b[1;31mTypeError\u001b[0m                                 Traceback (most recent call last)",
      "\u001b[1;32m<ipython-input-7-238d675496f5>\u001b[0m in \u001b[0;36m<module>\u001b[1;34m\u001b[0m\n\u001b[0;32m     25\u001b[0m     \u001b[1;32melse\u001b[0m\u001b[1;33m:\u001b[0m\u001b[1;33m\u001b[0m\u001b[0m\n\u001b[0;32m     26\u001b[0m         \u001b[1;32mpass\u001b[0m\u001b[1;33m\u001b[0m\u001b[0m\n\u001b[1;32m---> 27\u001b[1;33m \u001b[0mget_links\u001b[0m \u001b[1;33m(\u001b[0m\u001b[1;33m)\u001b[0m\u001b[1;33m\u001b[0m\u001b[0m\n\u001b[0m",
      "\u001b[1;31mTypeError\u001b[0m: get_links() missing 2 required positional arguments: 'channel' and 'pages'"
     ]
    }
   ],
   "source": [
    "#获取全部商品连接\n",
    "def get_links(channel,pages,who_sells=0):\n",
    "    list_view = '{}{}/pn{}/'.format(channel,str(who_sell),str(pages))\n",
    "    web_data = requests.get(list_view)\n",
    "    time.sleep(2)\n",
    "    soup = BeautifulSoup(web_data.txt,'lxml')\n",
    "    #爬取个人商家列表\n",
    "    if soup.find('td','t'):\n",
    "        for link in soup.select('.zzinfo>td.t>a.t'):\n",
    "            item_link = link.get('herf').split('?')[0]\n",
    "            #去除跳转类型链接\n",
    "            if item_link != 'http://jump.zhineng.58.com/jump':\n",
    "                #将商品链接保存在数据库中\n",
    "                url_list_tab.insert_one({'url':item_link})\n",
    "                print(item_link)\n",
    "    else:\n",
    "        pass\n",
    "    #爬取店铺商家列表\n",
    "    if soup.find('div','lief'):\n",
    "        for link in soup.select('a.title'):\n",
    "            item_link = link.get('href')\n",
    "            if item_link != 'http://jump.zhineng.58.com/jump':\n",
    "                url_list_tab.insert_one({'url':item_link})\n",
    "                print(item_link)\n",
    "    else:\n",
    "        pass"
   ]
  },
  {
   "cell_type": "code",
   "execution_count": null,
   "metadata": {},
   "outputs": [],
   "source": []
  }
 ],
 "metadata": {
  "kernelspec": {
   "display_name": "Python 3",
   "language": "python",
   "name": "python3"
  },
  "language_info": {
   "codemirror_mode": {
    "name": "ipython",
    "version": 3
   },
   "file_extension": ".py",
   "mimetype": "text/x-python",
   "name": "python",
   "nbconvert_exporter": "python",
   "pygments_lexer": "ipython3",
   "version": "3.6.6rc1"
  }
 },
 "nbformat": 4,
 "nbformat_minor": 2
}
